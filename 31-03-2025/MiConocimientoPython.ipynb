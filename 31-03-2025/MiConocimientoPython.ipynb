{
 "cells": [
  {
   "cell_type": "code",
   "execution_count": 2,
   "metadata": {},
   "outputs": [
    {
     "name": "stdout",
     "output_type": "stream",
     "text": [
      "58\n"
     ]
    }
   ],
   "source": [
    "import random\n",
    "x=random.randint(1,100)\n",
    "print(x)"
   ]
  },
  {
   "cell_type": "code",
   "execution_count": 3,
   "metadata": {},
   "outputs": [],
   "source": [
    "x=random.randint(1,100)"
   ]
  },
  {
   "cell_type": "code",
   "execution_count": 4,
   "metadata": {},
   "outputs": [
    {
     "name": "stdout",
     "output_type": "stream",
     "text": [
      "52\n"
     ]
    }
   ],
   "source": [
    "print(x)"
   ]
  },
  {
   "cell_type": "code",
   "execution_count": 5,
   "metadata": {},
   "outputs": [
    {
     "name": "stdout",
     "output_type": "stream",
     "text": [
      "100\n"
     ]
    }
   ],
   "source": [
    "import numpy as np\n",
    "x=np.array(100)\n",
    "print(x)"
   ]
  },
  {
   "cell_type": "markdown",
   "metadata": {},
   "source": [
    "CELDAS DE TEXTO\n",
    "Esta celda es de Texto"
   ]
  },
  {
   "cell_type": "code",
   "execution_count": 7,
   "metadata": {},
   "outputs": [],
   "source": [
    "import numpy as np\n",
    "escalar=np.array(10)\n",
    "vector=np.array([1,3,5,7,9])\n",
    "matrix=np.array([[1,2,3],[4,5,6],[7,8,9]])\n",
    "tensor=np.array([[[1,2],[3,4],[5,6]]])"
   ]
  },
  {
   "cell_type": "code",
   "execution_count": 8,
   "metadata": {},
   "outputs": [
    {
     "name": "stdout",
     "output_type": "stream",
     "text": [
      "10\n",
      "[1 3 5 7 9]\n",
      "[[1 2 3]\n",
      " [4 5 6]\n",
      " [7 8 9]]\n",
      "[[[1 2]\n",
      "  [3 4]\n",
      "  [5 6]]]\n"
     ]
    }
   ],
   "source": [
    "print(escalar)\n",
    "print(vector)\n",
    "print(matrix)\n",
    "print(tensor)"
   ]
  },
  {
   "cell_type": "code",
   "execution_count": 9,
   "metadata": {},
   "outputs": [
    {
     "data": {
      "text/plain": [
       "array([[[[1, 2],\n",
       "         [3, 4],\n",
       "         [5, 6]]],\n",
       "\n",
       "\n",
       "       [[[1, 2],\n",
       "         [3, 4],\n",
       "         [5, 6]]],\n",
       "\n",
       "\n",
       "       [[[1, 2],\n",
       "         [3, 4],\n",
       "         [5, 6]]]])"
      ]
     },
     "execution_count": 9,
     "metadata": {},
     "output_type": "execute_result"
    }
   ],
   "source": [
    "tensor=np.array([\n",
    "    [[[1,2],[3,4],[5,6]]],\n",
    "\t[[[1,2],[3,4],[5,6]]],\n",
    "\t[[[1,2],[3,4],[5,6]]]\n",
    "])\n",
    "\n",
    "tensor"
   ]
  },
  {
   "cell_type": "code",
   "execution_count": 10,
   "metadata": {},
   "outputs": [
    {
     "name": "stdout",
     "output_type": "stream",
     "text": [
      "[[[[1 2]\n",
      "   [3 4]\n",
      "   [5 6]]]\n",
      "\n",
      "\n",
      " [[[1 2]\n",
      "   [3 4]\n",
      "   [5 6]]]\n",
      "\n",
      "\n",
      " [[[1 2]\n",
      "   [3 4]\n",
      "   [5 6]]]]\n"
     ]
    }
   ],
   "source": [
    "print(tensor)"
   ]
  },
  {
   "cell_type": "code",
   "execution_count": 11,
   "metadata": {},
   "outputs": [
    {
     "data": {
      "text/plain": [
       "array([[0., 0., 0.],\n",
       "       [0., 0., 0.],\n",
       "       [0., 0., 0.]])"
      ]
     },
     "execution_count": 11,
     "metadata": {},
     "output_type": "execute_result"
    }
   ],
   "source": [
    "ceros=np.zeros((3,3))\n",
    "ceros"
   ]
  },
  {
   "cell_type": "code",
   "execution_count": 12,
   "metadata": {},
   "outputs": [
    {
     "data": {
      "text/plain": [
       "array([[1., 1., 1., 1.],\n",
       "       [1., 1., 1., 1.],\n",
       "       [1., 1., 1., 1.],\n",
       "       [1., 1., 1., 1.]])"
      ]
     },
     "execution_count": 12,
     "metadata": {},
     "output_type": "execute_result"
    }
   ],
   "source": [
    "unos=np.ones((4,4))\n",
    "unos"
   ]
  },
  {
   "cell_type": "code",
   "execution_count": 13,
   "metadata": {},
   "outputs": [
    {
     "data": {
      "text/plain": [
       "array([0, 1, 2, 3, 4, 5, 6, 7, 8])"
      ]
     },
     "execution_count": 13,
     "metadata": {},
     "output_type": "execute_result"
    }
   ],
   "source": [
    "v1=np.arange(9)\n",
    "v1"
   ]
  },
  {
   "cell_type": "code",
   "execution_count": 14,
   "metadata": {},
   "outputs": [
    {
     "data": {
      "text/plain": [
       "array([10, 11, 12, 13, 14, 15, 16, 17, 18, 19, 20, 21, 22, 23, 24, 25, 26,\n",
       "       27, 28, 29, 30, 31, 32, 33, 34, 35, 36, 37, 38, 39, 40, 41, 42, 43,\n",
       "       44, 45, 46, 47, 48, 49, 50, 51, 52, 53, 54, 55, 56, 57, 58, 59, 60,\n",
       "       61, 62, 63, 64, 65, 66, 67, 68, 69, 70, 71, 72, 73, 74, 75, 76, 77,\n",
       "       78, 79, 80, 81, 82, 83, 84, 85, 86, 87, 88, 89, 90, 91, 92, 93, 94,\n",
       "       95, 96, 97, 98, 99])"
      ]
     },
     "execution_count": 14,
     "metadata": {},
     "output_type": "execute_result"
    }
   ],
   "source": [
    "v2=np.arange(10,100)\n",
    "v2"
   ]
  },
  {
   "cell_type": "code",
   "execution_count": 15,
   "metadata": {},
   "outputs": [
    {
     "data": {
      "text/plain": [
       "array([10, 20, 30, 40, 50, 60, 70, 80, 90])"
      ]
     },
     "execution_count": 15,
     "metadata": {},
     "output_type": "execute_result"
    }
   ],
   "source": [
    "v3=np.arange(10,100,10)\n",
    "v3"
   ]
  },
  {
   "cell_type": "code",
   "execution_count": 16,
   "metadata": {},
   "outputs": [
    {
     "data": {
      "text/plain": [
       "[61, 98, 61, 56, 84, 47, 51, 14, 87, 58, 69, 53, 85, 87, 17]"
      ]
     },
     "execution_count": 16,
     "metadata": {},
     "output_type": "execute_result"
    }
   ],
   "source": [
    "import random\n",
    "lista=[random.randint(1,100) for i in range(random.randint(5,15))]\n",
    "lista\n"
   ]
  },
  {
   "cell_type": "code",
   "execution_count": 17,
   "metadata": {},
   "outputs": [
    {
     "data": {
      "text/plain": [
       "array([61, 98, 61, 56, 84, 47, 51, 14, 87, 58, 69, 53, 85, 87, 17])"
      ]
     },
     "execution_count": 17,
     "metadata": {},
     "output_type": "execute_result"
    }
   ],
   "source": [
    "vector=np.array(lista)\n",
    "vector"
   ]
  },
  {
   "cell_type": "code",
   "execution_count": 18,
   "metadata": {},
   "outputs": [
    {
     "data": {
      "text/plain": [
       "36"
      ]
     },
     "execution_count": 18,
     "metadata": {},
     "output_type": "execute_result"
    }
   ],
   "source": [
    "x=random.random()\n",
    "x=int(x*100)\n",
    "x"
   ]
  },
  {
   "cell_type": "code",
   "execution_count": 19,
   "metadata": {},
   "outputs": [
    {
     "data": {
      "text/plain": [
       "array([[ 8, 74, 60, 82, 54, 17, 58, 97]])"
      ]
     },
     "execution_count": 19,
     "metadata": {},
     "output_type": "execute_result"
    }
   ],
   "source": [
    "#tam=int(input(\"ingrese cantidad\"))\n",
    "vec=np.random.randint(1,100,size=(1,random.randint(5,15)))\n",
    "vec"
   ]
  },
  {
   "cell_type": "code",
   "execution_count": 20,
   "metadata": {},
   "outputs": [
    {
     "data": {
      "text/plain": [
       "array([[0, 1],\n",
       "       [2, 3],\n",
       "       [4, 5]])"
      ]
     },
     "execution_count": 20,
     "metadata": {},
     "output_type": "execute_result"
    }
   ],
   "source": [
    "arreglo=np.arange(6)\n",
    "nuevo=arreglo.reshape(3,2)\n",
    "nuevo"
   ]
  },
  {
   "cell_type": "code",
   "execution_count": 21,
   "metadata": {},
   "outputs": [
    {
     "data": {
      "text/plain": [
       "array([ 0,  1,  2,  3,  4,  5, 22])"
      ]
     },
     "execution_count": 21,
     "metadata": {},
     "output_type": "execute_result"
    }
   ],
   "source": [
    "arreglo=np.arange(6)\n",
    "arreglo=np.append(arreglo,22)\n",
    "arreglo"
   ]
  },
  {
   "cell_type": "code",
   "execution_count": 22,
   "metadata": {},
   "outputs": [
    {
     "name": "stdout",
     "output_type": "stream",
     "text": [
      "7\n"
     ]
    }
   ],
   "source": [
    "print(arreglo.size)"
   ]
  },
  {
   "cell_type": "code",
   "execution_count": 23,
   "metadata": {},
   "outputs": [
    {
     "data": {
      "text/plain": [
       "array([ 81,  25, 100,  72,  25,  61,  56,  36,  60,  76])"
      ]
     },
     "execution_count": 23,
     "metadata": {},
     "output_type": "execute_result"
    }
   ],
   "source": [
    "lista=[random.randint(1,100) for i in range(random.randint(5,15))]\n",
    "lista\n",
    "npvec=np.array(lista)\n",
    "npvec\n",
    "\n"
   ]
  },
  {
   "cell_type": "code",
   "execution_count": 24,
   "metadata": {},
   "outputs": [
    {
     "data": {
      "text/plain": [
       "array([81, 72])"
      ]
     },
     "execution_count": 24,
     "metadata": {},
     "output_type": "execute_result"
    }
   ],
   "source": [
    "npvec[:int(npvec.size/2):3]"
   ]
  },
  {
   "cell_type": "code",
   "execution_count": 25,
   "metadata": {},
   "outputs": [
    {
     "data": {
      "text/plain": [
       "array([61, 36, 76])"
      ]
     },
     "execution_count": 25,
     "metadata": {},
     "output_type": "execute_result"
    }
   ],
   "source": [
    "npvec[int(npvec.size/2)::2]"
   ]
  },
  {
   "cell_type": "code",
   "execution_count": 26,
   "metadata": {},
   "outputs": [
    {
     "data": {
      "text/plain": [
       "[81, 100, 25, 56, 60]"
      ]
     },
     "execution_count": 26,
     "metadata": {},
     "output_type": "execute_result"
    }
   ],
   "source": [
    "lista[::2]"
   ]
  },
  {
   "cell_type": "code",
   "execution_count": 27,
   "metadata": {},
   "outputs": [
    {
     "data": {
      "text/plain": [
       "[60, 76]"
      ]
     },
     "execution_count": 27,
     "metadata": {},
     "output_type": "execute_result"
    }
   ],
   "source": [
    "lista[8:]"
   ]
  },
  {
   "cell_type": "code",
   "execution_count": 28,
   "metadata": {},
   "outputs": [
    {
     "data": {
      "text/plain": [
       "[76, 60, 36, 56]"
      ]
     },
     "execution_count": 28,
     "metadata": {},
     "output_type": "execute_result"
    }
   ],
   "source": [
    "lista[-1:-5:-1]"
   ]
  },
  {
   "cell_type": "code",
   "execution_count": null,
   "metadata": {},
   "outputs": [],
   "source": []
  },
  {
   "cell_type": "code",
   "execution_count": 29,
   "metadata": {},
   "outputs": [
    {
     "data": {
      "text/plain": [
       "array([[72, 74, 56,  3, 73],\n",
       "       [45, 94, 55, 49, 65],\n",
       "       [19, 68, 44, 90, 21],\n",
       "       [77, 20, 86, 52, 63],\n",
       "       [61, 82, 75, 57, 29]])"
      ]
     },
     "execution_count": 29,
     "metadata": {},
     "output_type": "execute_result"
    }
   ],
   "source": [
    "matrix=np.random.randint(1,100,size=(5,5))\n",
    "matrix"
   ]
  },
  {
   "cell_type": "code",
   "execution_count": 30,
   "metadata": {},
   "outputs": [
    {
     "data": {
      "text/plain": [
       "array([[74,  3],\n",
       "       [94, 49],\n",
       "       [68, 90],\n",
       "       [20, 52],\n",
       "       [82, 57]])"
      ]
     },
     "execution_count": 30,
     "metadata": {},
     "output_type": "execute_result"
    }
   ],
   "source": [
    "matrix[:,1::2]"
   ]
  },
  {
   "cell_type": "code",
   "execution_count": 31,
   "metadata": {},
   "outputs": [
    {
     "data": {
      "text/plain": [
       "55.6"
      ]
     },
     "execution_count": 31,
     "metadata": {},
     "output_type": "execute_result"
    }
   ],
   "source": [
    "np.mean(matrix[0])"
   ]
  },
  {
   "cell_type": "code",
   "execution_count": 35,
   "metadata": {},
   "outputs": [
    {
     "name": "stdout",
     "output_type": "stream",
     "text": [
      "<_csv.reader object at 0x00000284E89372E0>\n",
      "<class '_csv.reader'>\n",
      "['EMPLOYEE_ID', 'FIRST_NAME', 'LAST_NAME', 'EMAIL', 'PHONE_NUMBER', 'HIRE_DATE', 'JOB_ID', 'SALARY', 'COMMISSION_PCT', 'MANAGER_ID', 'DEPARTMENT_ID']\n",
      "['198', 'Donald', 'OConnell', 'DOCONNEL', '650.507.9833', '21-JUN-07', 'SH_CLERK', '2600', ' - ', '124', '50']\n",
      "['199', 'Douglas', 'Grant', 'DGRANT', '650.507.9844', '13-JAN-08', 'SH_CLERK', '2600', ' - ', '124', '50']\n",
      "['200', 'Jennifer', 'Whalen', 'JWHALEN', '515.123.4444', '17-SEP-03', 'AD_ASST', '4400', ' - ', '101', '10']\n",
      "['201', 'Michael', 'Hartstein', 'MHARTSTE', '515.123.5555', '17-FEB-04', 'MK_MAN', '13000', ' - ', '100', '20']\n",
      "['202', 'Pat', 'Fay', 'PFAY', '603.123.6666', '17-AUG-05', 'MK_REP', '6000', ' - ', '201', '20']\n",
      "['203', 'Susan', 'Mavris', 'SMAVRIS', '515.123.7777', '07-JUN-02', 'HR_REP', '6500', ' - ', '101', '40']\n",
      "['204', 'Hermann', 'Baer', 'HBAER', '515.123.8888', '07-JUN-02', 'PR_REP', '10000', ' - ', '101', '70']\n",
      "['205', 'Shelley', 'Higgins', 'SHIGGINS', '515.123.8080', '07-JUN-02', 'AC_MGR', '12008', ' - ', '101', '110']\n",
      "['206', 'William', 'Gietz', 'WGIETZ', '515.123.8181', '07-JUN-02', 'AC_ACCOUNT', '8300', ' - ', '205', '110']\n",
      "['100', 'Steven', 'King', 'SKING', '515.123.4567', '17-JUN-03', 'AD_PRES', '24000', ' - ', ' - ', '90']\n",
      "['101', 'Neena', 'Kochhar', 'NKOCHHAR', '515.123.4568', '21-SEP-05', 'AD_VP', '17000', ' - ', '100', '90']\n",
      "['102', 'Lex', 'De Haan', 'LDEHAAN', '515.123.4569', '13-JAN-01', 'AD_VP', '17000', ' - ', '100', '90']\n",
      "['103', 'Alexander', 'Hunold', 'AHUNOLD', '590.423.4567', '03-JAN-06', 'IT_PROG', '9000', ' - ', '102', '60']\n",
      "['104', 'Bruce', 'Ernst', 'BERNST', '590.423.4568', '21-MAY-07', 'IT_PROG', '6000', ' - ', '103', '60']\n",
      "['105', 'David', 'Austin', 'DAUSTIN', '590.423.4569', '25-JUN-05', 'IT_PROG', '4800', ' - ', '103', '60']\n",
      "['106', 'Valli', 'Pataballa', 'VPATABAL', '590.423.4560', '05-FEB-06', 'IT_PROG', '4800', ' - ', '103', '60']\n",
      "['107', 'Diana', 'Lorentz', 'DLORENTZ', '590.423.5567', '07-FEB-07', 'IT_PROG', '4200', ' - ', '103', '60']\n",
      "['108', 'Nancy', 'Greenberg', 'NGREENBE', '515.124.4569', '17-AUG-02', 'FI_MGR', '12008', ' - ', '101', '100']\n",
      "['109', 'Daniel', 'Faviet', 'DFAVIET', '515.124.4169', '16-AUG-02', 'FI_ACCOUNT', '9000', ' - ', '108', '100']\n",
      "['110', 'John', 'Chen', 'JCHEN', '515.124.4269', '28-SEP-05', 'FI_ACCOUNT', '8200', ' - ', '108', '100']\n",
      "['111', 'Ismael', 'Sciarra', 'ISCIARRA', '515.124.4369', '30-SEP-05', 'FI_ACCOUNT', '7700', ' - ', '108', '100']\n",
      "['112', 'Jose Manuel', 'Urman', 'JMURMAN', '515.124.4469', '07-MAR-06', 'FI_ACCOUNT', '7800', ' - ', '108', '100']\n",
      "['113', 'Luis', 'Popp', 'LPOPP', '515.124.4567', '07-DEC-07', 'FI_ACCOUNT', '6900', ' - ', '108', '100']\n",
      "['114', 'Den', 'Raphaely', 'DRAPHEAL', '515.127.4561', '07-DEC-02', 'PU_MAN', '11000', ' - ', '100', '30']\n",
      "['115', 'Alexander', 'Khoo', 'AKHOO', '515.127.4562', '18-MAY-03', 'PU_CLERK', '3100', ' - ', '114', '30']\n",
      "['116', 'Shelli', 'Baida', 'SBAIDA', '515.127.4563', '24-DEC-05', 'PU_CLERK', '2900', ' - ', '114', '30']\n",
      "['117', 'Sigal', 'Tobias', 'STOBIAS', '515.127.4564', '24-JUL-05', 'PU_CLERK', '2800', ' - ', '114', '30']\n",
      "['118', 'Guy', 'Himuro', 'GHIMURO', '515.127.4565', '15-NOV-06', 'PU_CLERK', '2600', ' - ', '114', '30']\n",
      "['119', 'Karen', 'Colmenares', 'KCOLMENA', '515.127.4566', '10-AUG-07', 'PU_CLERK', '2500', ' - ', '114', '30']\n",
      "['120', 'Matthew', 'Weiss', 'MWEISS', '650.123.1234', '18-JUL-04', 'ST_MAN', '8000', ' - ', '100', '50']\n",
      "['121', 'Adam', 'Fripp', 'AFRIPP', '650.123.2234', '10-APR-05', 'ST_MAN', '8200', ' - ', '100', '50']\n",
      "['122', 'Payam', 'Kaufling', 'PKAUFLIN', '650.123.3234', '01-MAY-03', 'ST_MAN', '7900', ' - ', '100', '50']\n",
      "['123', 'Shanta', 'Vollman', 'SVOLLMAN', '650.123.4234', '10-OCT-05', 'ST_MAN', '6500', ' - ', '100', '50']\n",
      "['124', 'Kevin', 'Mourgos', 'KMOURGOS', '650.123.5234', '16-NOV-07', 'ST_MAN', '5800', ' - ', '100', '50']\n",
      "['125', 'Julia', 'Nayer', 'JNAYER', '650.124.1214', '16-JUL-05', 'ST_CLERK', '3200', ' - ', '120', '50']\n",
      "['126', 'Irene', 'Mikkilineni', 'IMIKKILI', '650.124.1224', '28-SEP-06', 'ST_CLERK', '2700', ' - ', '120', '50']\n",
      "['127', 'James', 'Landry', 'JLANDRY', '650.124.1334', '14-JAN-07', 'ST_CLERK', '2400', ' - ', '120', '50']\n",
      "['128', 'Steven', 'Markle', 'SMARKLE', '650.124.1434', '08-MAR-08', 'ST_CLERK', '2200', ' - ', '120', '50']\n",
      "['129', 'Laura', 'Bissot', 'LBISSOT', '650.124.5234', '20-AUG-05', 'ST_CLERK', '3300', ' - ', '121', '50']\n",
      "['130', 'Mozhe', 'Atkinson', 'MATKINSO', '650.124.6234', '30-OCT-05', 'ST_CLERK', '2800', ' - ', '121', '50']\n",
      "['131', 'James', 'Marlow', 'JAMRLOW', '650.124.7234', '16-FEB-05', 'ST_CLERK', '2500', ' - ', '121', '50']\n",
      "['132', 'TJ', 'Olson', 'TJOLSON', '650.124.8234', '10-APR-07', 'ST_CLERK', '2100', ' - ', '121', '50']\n",
      "['133', 'Jason', 'Mallin', 'JMALLIN', '650.127.1934', '14-JUN-04', 'ST_CLERK', '3300', ' - ', '122', '50']\n",
      "['134', 'Michael', 'Rogers', 'MROGERS', '650.127.1834', '26-AUG-06', 'ST_CLERK', '2900', ' - ', '122', '50']\n",
      "['135', 'Ki', 'Gee', 'KGEE', '650.127.1734', '12-DEC-07', 'ST_CLERK', '2400', ' - ', '122', '50']\n",
      "['136', 'Hazel', 'Philtanker', 'HPHILTAN', '650.127.1634', '06-FEB-08', 'ST_CLERK', '2200', ' - ', '122', '50']\n",
      "['137', 'Renske', 'Ladwig', 'RLADWIG', '650.121.1234', '14-JUL-03', 'ST_CLERK', '3600', ' - ', '123', '50']\n",
      "['138', 'Stephen', 'Stiles', 'SSTILES', '650.121.2034', '26-OCT-05', 'ST_CLERK', '3200', ' - ', '123', '50']\n",
      "['139', 'John', 'Seo', 'JSEO', '650.121.2019', '12-FEB-06', 'ST_CLERK', '2700', ' - ', '123', '50']\n",
      "['140', 'Joshua', 'Patel', 'JPATEL', '650.121.1834', '06-APR-06', 'ST_CLERK', '2500', ' - ', '123', '50']\n",
      "['EMPLOYEE_ID' 'FIRST_NAME' 'LAST_NAME' 'EMAIL' 'PHONE_NUMBER' 'HIRE_DATE'\n",
      " 'JOB_ID' 'SALARY' 'COMMISSION_PCT' 'MANAGER_ID' 'DEPARTMENT_ID' '198'\n",
      " 'Donald' 'OConnell' 'DOCONNEL' '650.507.9833' '21-JUN-07' 'SH_CLERK'\n",
      " '2600' ' - ' '124' '50' '199' 'Douglas' 'Grant' 'DGRANT' '650.507.9844'\n",
      " '13-JAN-08' 'SH_CLERK' '2600' ' - ' '124' '50' '200' 'Jennifer' 'Whalen'\n",
      " 'JWHALEN' '515.123.4444' '17-SEP-03' 'AD_ASST' '4400' ' - ' '101' '10'\n",
      " '201' 'Michael' 'Hartstein' 'MHARTSTE' '515.123.5555' '17-FEB-04'\n",
      " 'MK_MAN' '13000' ' - ' '100' '20' '202' 'Pat' 'Fay' 'PFAY' '603.123.6666'\n",
      " '17-AUG-05' 'MK_REP' '6000' ' - ' '201' '20' '203' 'Susan' 'Mavris'\n",
      " 'SMAVRIS' '515.123.7777' '07-JUN-02' 'HR_REP' '6500' ' - ' '101' '40'\n",
      " '204' 'Hermann' 'Baer' 'HBAER' '515.123.8888' '07-JUN-02' 'PR_REP'\n",
      " '10000' ' - ' '101' '70' '205' 'Shelley' 'Higgins' 'SHIGGINS'\n",
      " '515.123.8080' '07-JUN-02' 'AC_MGR' '12008' ' - ' '101' '110' '206'\n",
      " 'William' 'Gietz' 'WGIETZ' '515.123.8181' '07-JUN-02' 'AC_ACCOUNT' '8300'\n",
      " ' - ' '205' '110' '100' 'Steven' 'King' 'SKING' '515.123.4567'\n",
      " '17-JUN-03' 'AD_PRES' '24000' ' - ' ' - ' '90' '101' 'Neena' 'Kochhar'\n",
      " 'NKOCHHAR' '515.123.4568' '21-SEP-05' 'AD_VP' '17000' ' - ' '100' '90'\n",
      " '102' 'Lex' 'De Haan' 'LDEHAAN' '515.123.4569' '13-JAN-01' 'AD_VP'\n",
      " '17000' ' - ' '100' '90' '103' 'Alexander' 'Hunold' 'AHUNOLD'\n",
      " '590.423.4567' '03-JAN-06' 'IT_PROG' '9000' ' - ' '102' '60' '104'\n",
      " 'Bruce' 'Ernst' 'BERNST' '590.423.4568' '21-MAY-07' 'IT_PROG' '6000'\n",
      " ' - ' '103' '60' '105' 'David' 'Austin' 'DAUSTIN' '590.423.4569'\n",
      " '25-JUN-05' 'IT_PROG' '4800' ' - ' '103' '60' '106' 'Valli' 'Pataballa'\n",
      " 'VPATABAL' '590.423.4560' '05-FEB-06' 'IT_PROG' '4800' ' - ' '103' '60'\n",
      " '107' 'Diana' 'Lorentz' 'DLORENTZ' '590.423.5567' '07-FEB-07' 'IT_PROG'\n",
      " '4200' ' - ' '103' '60' '108' 'Nancy' 'Greenberg' 'NGREENBE'\n",
      " '515.124.4569' '17-AUG-02' 'FI_MGR' '12008' ' - ' '101' '100' '109'\n",
      " 'Daniel' 'Faviet' 'DFAVIET' '515.124.4169' '16-AUG-02' 'FI_ACCOUNT'\n",
      " '9000' ' - ' '108' '100' '110' 'John' 'Chen' 'JCHEN' '515.124.4269'\n",
      " '28-SEP-05' 'FI_ACCOUNT' '8200' ' - ' '108' '100' '111' 'Ismael'\n",
      " 'Sciarra' 'ISCIARRA' '515.124.4369' '30-SEP-05' 'FI_ACCOUNT' '7700' ' - '\n",
      " '108' '100' '112' 'Jose Manuel' 'Urman' 'JMURMAN' '515.124.4469'\n",
      " '07-MAR-06' 'FI_ACCOUNT' '7800' ' - ' '108' '100' '113' 'Luis' 'Popp'\n",
      " 'LPOPP' '515.124.4567' '07-DEC-07' 'FI_ACCOUNT' '6900' ' - ' '108' '100'\n",
      " '114' 'Den' 'Raphaely' 'DRAPHEAL' '515.127.4561' '07-DEC-02' 'PU_MAN'\n",
      " '11000' ' - ' '100' '30' '115' 'Alexander' 'Khoo' 'AKHOO' '515.127.4562'\n",
      " '18-MAY-03' 'PU_CLERK' '3100' ' - ' '114' '30' '116' 'Shelli' 'Baida'\n",
      " 'SBAIDA' '515.127.4563' '24-DEC-05' 'PU_CLERK' '2900' ' - ' '114' '30'\n",
      " '117' 'Sigal' 'Tobias' 'STOBIAS' '515.127.4564' '24-JUL-05' 'PU_CLERK'\n",
      " '2800' ' - ' '114' '30' '118' 'Guy' 'Himuro' 'GHIMURO' '515.127.4565'\n",
      " '15-NOV-06' 'PU_CLERK' '2600' ' - ' '114' '30' '119' 'Karen' 'Colmenares'\n",
      " 'KCOLMENA' '515.127.4566' '10-AUG-07' 'PU_CLERK' '2500' ' - ' '114' '30'\n",
      " '120' 'Matthew' 'Weiss' 'MWEISS' '650.123.1234' '18-JUL-04' 'ST_MAN'\n",
      " '8000' ' - ' '100' '50' '121' 'Adam' 'Fripp' 'AFRIPP' '650.123.2234'\n",
      " '10-APR-05' 'ST_MAN' '8200' ' - ' '100' '50' '122' 'Payam' 'Kaufling'\n",
      " 'PKAUFLIN' '650.123.3234' '01-MAY-03' 'ST_MAN' '7900' ' - ' '100' '50'\n",
      " '123' 'Shanta' 'Vollman' 'SVOLLMAN' '650.123.4234' '10-OCT-05' 'ST_MAN'\n",
      " '6500' ' - ' '100' '50' '124' 'Kevin' 'Mourgos' 'KMOURGOS' '650.123.5234'\n",
      " '16-NOV-07' 'ST_MAN' '5800' ' - ' '100' '50' '125' 'Julia' 'Nayer'\n",
      " 'JNAYER' '650.124.1214' '16-JUL-05' 'ST_CLERK' '3200' ' - ' '120' '50'\n",
      " '126' 'Irene' 'Mikkilineni' 'IMIKKILI' '650.124.1224' '28-SEP-06'\n",
      " 'ST_CLERK' '2700' ' - ' '120' '50' '127' 'James' 'Landry' 'JLANDRY'\n",
      " '650.124.1334' '14-JAN-07' 'ST_CLERK' '2400' ' - ' '120' '50' '128'\n",
      " 'Steven' 'Markle' 'SMARKLE' '650.124.1434' '08-MAR-08' 'ST_CLERK' '2200'\n",
      " ' - ' '120' '50' '129' 'Laura' 'Bissot' 'LBISSOT' '650.124.5234'\n",
      " '20-AUG-05' 'ST_CLERK' '3300' ' - ' '121' '50' '130' 'Mozhe' 'Atkinson'\n",
      " 'MATKINSO' '650.124.6234' '30-OCT-05' 'ST_CLERK' '2800' ' - ' '121' '50'\n",
      " '131' 'James' 'Marlow' 'JAMRLOW' '650.124.7234' '16-FEB-05' 'ST_CLERK'\n",
      " '2500' ' - ' '121' '50' '132' 'TJ' 'Olson' 'TJOLSON' '650.124.8234'\n",
      " '10-APR-07' 'ST_CLERK' '2100' ' - ' '121' '50' '133' 'Jason' 'Mallin'\n",
      " 'JMALLIN' '650.127.1934' '14-JUN-04' 'ST_CLERK' '3300' ' - ' '122' '50'\n",
      " '134' 'Michael' 'Rogers' 'MROGERS' '650.127.1834' '26-AUG-06' 'ST_CLERK'\n",
      " '2900' ' - ' '122' '50' '135' 'Ki' 'Gee' 'KGEE' '650.127.1734'\n",
      " '12-DEC-07' 'ST_CLERK' '2400' ' - ' '122' '50' '136' 'Hazel' 'Philtanker'\n",
      " 'HPHILTAN' '650.127.1634' '06-FEB-08' 'ST_CLERK' '2200' ' - ' '122' '50'\n",
      " '137' 'Renske' 'Ladwig' 'RLADWIG' '650.121.1234' '14-JUL-03' 'ST_CLERK'\n",
      " '3600' ' - ' '123' '50' '138' 'Stephen' 'Stiles' 'SSTILES' '650.121.2034'\n",
      " '26-OCT-05' 'ST_CLERK' '3200' ' - ' '123' '50' '139' 'John' 'Seo' 'JSEO'\n",
      " '650.121.2019' '12-FEB-06' 'ST_CLERK' '2700' ' - ' '123' '50' '140'\n",
      " 'Joshua' 'Patel' 'JPATEL' '650.121.1834' '06-APR-06' 'ST_CLERK' '2500'\n",
      " ' - ' '123' '50']\n"
     ]
    }
   ],
   "source": [
    "import csv\n",
    "\n",
    "arreglo=np.array([])\n",
    "type(arreglo)\n",
    "#with open(\"C:\\\\Users\\\\usuario\\\\Dropbox\\\\sena2025\\\\Trimestre1-Febrero10-Abril25\\\\2996881_Analitica\\\\datos2.csv\") as mycsv:\n",
    "with open(\"employees.csv\") as mycsv:\n",
    "    data=csv.reader(mycsv)\n",
    "    print(data)\n",
    "    print(type(data))\n",
    "    for x in data:\n",
    "        print(x)\n",
    "        arreglo=np.append(arreglo,x)\n",
    "    \n",
    "print(arreglo)"
   ]
  },
  {
   "cell_type": "code",
   "execution_count": null,
   "metadata": {},
   "outputs": [],
   "source": []
  }
 ],
 "metadata": {
  "kernelspec": {
   "display_name": "Python 3 (ipykernel)",
   "language": "python",
   "name": "python3"
  },
  "language_info": {
   "codemirror_mode": {
    "name": "ipython",
    "version": 3
   },
   "file_extension": ".py",
   "mimetype": "text/x-python",
   "name": "python",
   "nbconvert_exporter": "python",
   "pygments_lexer": "ipython3",
   "version": "3.12.7"
  }
 },
 "nbformat": 4,
 "nbformat_minor": 4
}
