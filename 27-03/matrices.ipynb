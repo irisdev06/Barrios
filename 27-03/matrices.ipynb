{
 "cells": [
  {
   "cell_type": "code",
   "execution_count": 1,
   "metadata": {},
   "outputs": [],
   "source": [
    "import numpy as np\n",
    "import random"
   ]
  },
  {
   "cell_type": "markdown",
   "metadata": {},
   "source": [
    "# Arreglo de Tensores (●'◡'●)"
   ]
  },
  {
   "cell_type": "code",
   "execution_count": 2,
   "metadata": {},
   "outputs": [
    {
     "name": "stdout",
     "output_type": "stream",
     "text": [
      "[[[ 1  2]\n",
      "  [ 3  4]]\n",
      "\n",
      " [[ 5  6]\n",
      "  [ 7  8]]\n",
      "\n",
      " [[ 9 10]\n",
      "  [11 12]]]\n"
     ]
    }
   ],
   "source": [
    "mitensor = np.array([[[1, 2], [3, 4]], [[5, 6], [7, 8]], [[9, 10], [11, 12]]])\n",
    "print(mitensor)"
   ]
  },
  {
   "cell_type": "markdown",
   "metadata": {},
   "source": [
    "# Random.Randint (*/ω＼*)"
   ]
  },
  {
   "cell_type": "code",
   "execution_count": 3,
   "metadata": {},
   "outputs": [
    {
     "name": "stdout",
     "output_type": "stream",
     "text": [
      "2\n",
      "9\n",
      "[[ 6 46 45]\n",
      " [10  6 42]\n",
      " [43  7  7]]\n"
     ]
    }
   ],
   "source": [
    "# De un número\n",
    "unnum = np.random.randint(0, 10)\n",
    "print(unnum)\n",
    "# Número aleatorio excluyendo 15\n",
    "numal = np.random.randint(5, 15)\n",
    "print(numal)\n",
    "# Vector 3x3 \n",
    "vec=np.random.randint(0, 50, size=(3, 3))\n",
    "print(vec)"
   ]
  },
  {
   "cell_type": "markdown",
   "metadata": {},
   "source": [
    "# Random ᓚᘏᗢ\n",
    "Random tiene el valor 0 como el más pequeño y 1 como el más grande, nos da valores en ese rango. Si quisieramos convertirlo en un número entero, tendríamos que multiplicarlo por 100."
   ]
  },
  {
   "cell_type": "code",
   "execution_count": 7,
   "metadata": {},
   "outputs": [
    {
     "name": "stdout",
     "output_type": "stream",
     "text": [
      "50.707387844159456\n"
     ]
    }
   ],
   "source": [
    "x = random.random()\n",
    "print(x*100)"
   ]
  },
  {
   "cell_type": "markdown",
   "metadata": {},
   "source": [
    "# Ejercicio\n",
    "El número de filas y columnas debe ser ingresado por el usuario."
   ]
  },
  {
   "cell_type": "code",
   "execution_count": 8,
   "metadata": {},
   "outputs": [
    {
     "name": "stdout",
     "output_type": "stream",
     "text": [
      "[[17 31]\n",
      " [46 39]\n",
      " [43 49]\n",
      " [37 32]\n",
      " [25 44]\n",
      " [ 8 39]\n",
      " [14 30]\n",
      " [19 39]\n",
      " [44  3]\n",
      " [ 3 12]\n",
      " [49  6]\n",
      " [ 4  1]\n",
      " [37 42]\n",
      " [38  5]\n",
      " [ 2 33]\n",
      " [19  1]\n",
      " [31 16]\n",
      " [21 47]\n",
      " [ 3 13]\n",
      " [27 28]]\n"
     ]
    }
   ],
   "source": [
    "filas = int(input(\"Número de filas: \"))\n",
    "columnas = int(input(\"Número de columnas: \"))\n",
    "vec = np.random.randint(0, 50, size=(filas, columnas))\n",
    "print(vec)\n"
   ]
  },
  {
   "cell_type": "markdown",
   "metadata": {},
   "source": [
    "Usar reshape y append dependiendo del caso. "
   ]
  },
  {
   "cell_type": "code",
   "execution_count": 11,
   "metadata": {},
   "outputs": [
    {
     "name": "stdout",
     "output_type": "stream",
     "text": [
      "Tu Matriz:\n",
      "[[45 22 48 37 34  6 22  5 42 26 33 24  8  6 25  0 20 31 46 35 12 24 21 31\n",
      "  41 35  6 43 40 47 45  4 24 13 38 45  4 29 44  0 31 41 26  6 45 44 29 18\n",
      "  34 24]\n",
      " [26 28 28 32 35 47 16 25 21  2 24  3 17 40 35 24 32 16  4 37 17 47 45 25\n",
      "   5 15  7 31 32 22 26  8 33 36 38 18 18 37 25 44 19 19 42 29 38 10  5 13\n",
      "  33  0]\n",
      " [46 12 36 39 25 10 49 45 14 43 23 14 49 17 27 26 13 10 12 26 13 28 42 46\n",
      "   4 37 44 26 43 30 18 42 19 17 16  8 44 17 35 20 24 41 34 12 39 25 46  7\n",
      "   9 24]\n",
      " [16 34 27  2 11 23 30 26 35 42 36 22 12 43 45 38 33 33 32  6 40 31 36 22\n",
      "  34  9  3  8 30  6 20 14 44 22 44  7 14 40 24 30 16 22 32 25 40 23  1 49\n",
      "  19  4]\n",
      " [18  5 25 10 28  4 15 13 16 39  7 36  6 40 16 10 26  1  5 23 46  4 33 28\n",
      "  33  8 12 39 24 33 35 45 26 14 32 36 46 19  6 41 32 28 43 19 46 11 12 31\n",
      "   4  6]\n",
      " [10 31 22 16 15 17 15 18 16 29 40  4 13 18 20 49 48 28 23  5 12 18 22 10\n",
      "  22 25 41  8 21 44 35  7 35 31 32 41 16 36 34 44 48  3  9 28 40  7 10 46\n",
      "  23  8]\n",
      " [46 32 23 23 32 21 35 22 34 29 43 15 29 34 49 12 39 15 37 31 40 43  1  9\n",
      "  15 43  5 29 33 41 48 28 43  2 26 22 33 47 27  5 30 20 28 14 18  0 30 21\n",
      "  48 46]\n",
      " [15  3 40 10 48 29  8  0 15 15  7 35 18 27 43 23 49  3 41 31 27 22 19 32\n",
      "  18 25  5 18 16  6 46 11 39 20 17  3  2 17  5  0 34 45 43 15  8 10 34 16\n",
      "  29 38]\n",
      " [26 17 33 45 22  0  1 29 37 33 49 23  7 16 12 48 24 26 46 26 17  4  6 23\n",
      "  26 19 36 40 15 35 30 31 46 20  1 29 37 47  0  6  3  3 29 44 31 39  1  2\n",
      "   8 19]\n",
      " [15  7 12 26  9 23 26 46  0 37 34 28 20 35 40 16 42 41 38 31 47  6  6 23\n",
      "   9 37 42 15 40 40 42 40 43 38  5  2 29 44 36 11 47 23  0  9 38 48  1 27\n",
      "  22 18]\n",
      " [11 28 28 28 13  7  1 10 23 39 24 22 19 42 26 35 17 43 39 26 44 25 13 31\n",
      "  13  8 23 18 46 13 44 20  2 28 33 29 34 33 41 10 36 47  8 41 35 21 11 41\n",
      "  49  0]\n",
      " [26 49 18  7  7 47  4 27  1 18 21  6 27 31  4 33 30 38 26 34 20  8 24 37\n",
      "  25 25 14 22 44 25  5 31  8 32 27  7  4 35  4  0 14  8 10 26  4 26 32 19\n",
      "  26 49]\n",
      " [ 3 41  8 26 42 36 47 47  1 34 26 38  6 17 22 15  3  3 18 49 27 14 49 41\n",
      "  31  4 35 23 26 27 35 31 35 35 41 30  5  7 24 17  5 30  8 27 48 21 48 48\n",
      "  40 42]\n",
      " [ 4 41 10 24 38 43 45 41 37  2 23  0 38 21  7 21 36 47 22  5 27  2 45 39\n",
      "  49 46 49  1 37 30 33 12 48 15 22  2  6 49 18  6 11 31 18 14 26  3 43  6\n",
      "  28 15]\n",
      " [17 11 33 37 34 40 33 11 43 39 40 22  4 47 38 12 37 47 20 40  6 49 45 33\n",
      "   4  4 37 42 21 21 24 39 18 46 32 46 18 49 38 18 29 13 49 19 48 29 43  1\n",
      "   0 27]\n",
      " [46 48  3 22 41 37 40 28 26  9 19 18 25 23 28 27 37  2  5 27 15 47 39 36\n",
      "  21 15 25 48 45  6 37  9 14 37 23 30 49 19 31 21 15  5 26 27 44 32 45 27\n",
      "  30 13]\n",
      " [32 46 28 11  4  8 35  2 39 15 40 21 35  8 10 11 44  0  5 11  0 44  4 23\n",
      "  37  1 17 29 28  9 47 11 21  5 32 10  8 46  5 41 20 42 43 21 39 38  1  0\n",
      "  19 41]\n",
      " [25 15 17 41 37 30 45 17 26 31 26 12 34 22 36 45 37 49 18 29  1 14 49  1\n",
      "  32 33 20 12 33 37  0 35 15 36 49 27 42  8 38  5 20 13 49 40 44  4 28 27\n",
      "  42 16]\n",
      " [16 10 11 33  8  3  5 19 37 22 21 33 37  5 14 15 36 24 10  7  4  0 16 20\n",
      "  26 27 42 40 17 18 37 45 27 38  0 33 41 38  9 36 10 27  6 26  2 35 25 21\n",
      "  39 18]\n",
      " [29 48 10 44 36 43  2  1  5 37 38  4 33 27  2 47 14 33  7  1 36 22 47 12\n",
      "   2  2  3 24 43 38 25 36  2 35  7 27 11 24 11 16 44 14 27 42 36 43  7 47\n",
      "  18  9]]\n"
     ]
    }
   ],
   "source": [
    "def mimatriz(filas, columnas):\n",
    "    total_elementos = filas * columnas\n",
    "    vec = np.random.randint(0, 50, size=total_elementos)\n",
    "    if vec.size != total_elementos:\n",
    "        if vec.size > total_elementos:\n",
    "            vec = vec[:total_elementos]\n",
    "        elif vec.size < total_elementos:\n",
    "            vec = np.append(vec, np.random.randint(0, 50, size=(total_elementos - vec.size)))\n",
    "    vec = vec.reshape(filas, columnas)\n",
    "\n",
    "    return vec\n",
    "\n",
    "filas = int(input(\"Introduce el número de filas: \"))\n",
    "columnas = int(input(\"Introduce el número de columnas: \"))\n",
    "\n",
    "matriz = mimatriz(filas, columnas)\n",
    "\n",
    "print(\"Tu Matriz:\")\n",
    "print(matriz)"
   ]
  }
 ],
 "metadata": {
  "kernelspec": {
   "display_name": "Python 3",
   "language": "python",
   "name": "python3"
  },
  "language_info": {
   "codemirror_mode": {
    "name": "ipython",
    "version": 3
   },
   "file_extension": ".py",
   "mimetype": "text/x-python",
   "name": "python",
   "nbconvert_exporter": "python",
   "pygments_lexer": "ipython3",
   "version": "3.12.3"
  }
 },
 "nbformat": 4,
 "nbformat_minor": 2
}
