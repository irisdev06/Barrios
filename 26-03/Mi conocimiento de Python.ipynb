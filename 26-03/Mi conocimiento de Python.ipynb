{
 "cells": [
  {
   "cell_type": "markdown",
   "id": "3b521e70-84a5-42bb-b499-7f98a8766ac0",
   "metadata": {},
   "source": [
    "Empezamos viendo funciones:\n",
    "Función: Es un bloque de código que almacena código con distintas soluciones, podemos reutilizarlo.\n",
    "Parametros: Son variables que le pasamos a una función para usarla luego. "
   ]
  },
  {
   "cell_type": "code",
   "execution_count": null,
   "id": "12059190-d177-40c4-ac16-870dc32c6d7c",
   "metadata": {},
   "outputs": [],
   "source": [
    "def function(num1,num2=2):\n",
    "    return num1**num2\n",
    "\n",
    "print(function(2,5))\n",
    "print(function(num2=5,num1=2))\n",
    "print(function(10))"
   ]
  },
  {
   "cell_type": "markdown",
   "id": "d8dd0c00-6a42-4d84-92ab-f60c03239180",
   "metadata": {},
   "source": [
    "Aprendimos a codificar funciones para realizar operaciones matemáticas:"
   ]
  },
  {
   "cell_type": "code",
   "execution_count": null,
   "id": "1dea7d6b-fddd-4f68-9107-1b50aace4135",
   "metadata": {},
   "outputs": [],
   "source": [
    "def sumar(x,y):\n",
    "    return x+y\n",
    "\n",
    "def restar(x,y):\n",
    "    return x-y\n",
    "\n",
    "def multiplicar(x,y):\n",
    "    return x*y\n",
    "\n",
    "def dividir(x,y):\n",
    "    return x/y\n"
   ]
  },
  {
   "cell_type": "markdown",
   "id": "2340952c-c8ed-4e16-b197-70f53fac18c6",
   "metadata": {},
   "source": [
    "Conocimos una librería muy interesante llamada random para generar números aleatorios:"
   ]
  },
  {
   "cell_type": "code",
   "execution_count": 7,
   "id": "1b7f2bc3-25c1-4c6a-a0b2-a0024d599227",
   "metadata": {},
   "outputs": [],
   "source": [
    "# Se importa como: \n",
    "import random\n",
    "aleatorio1=random.randint(1,100)\n",
    "aleatorio2=random.randrange(10,20)\n",
    "print(f\"aleatorio1={aleatorio1}\")\n",
    "print(f\"aleatorio2={aleatorio2}\")\n",
    "\n",
    "for num in range(10):\n",
    "    aleatorio1=random.randint(1,100)\n",
    "    aleatorio2=random.randrange(10,20)\n",
    "    print(f\"aleatorio1={aleatorio1}\")\n",
    "    print(f\"aleatorio2={aleatorio2}\")\n",
    "    "
   ]
  },
  {
   "cell_type": "code",
   "execution_count": null,
   "id": "a751e9a2-a413-4881-b22f-e8d1548d20a0",
   "metadata": {},
   "outputs": [],
   "source": [
    "Estuvimos viendo condicionales nos sirven para programar código cuando se cumple una condición"
   ]
  },
  {
   "cell_type": "code",
   "execution_count": null,
   "id": "d32c972f-59f0-41fc-8b2e-2b4befd5ccdf",
   "metadata": {},
   "outputs": [],
   "source": [
    "# Ejemplo 1\n",
    "x=int(input(\"ingrese un numero\"))\n",
    "if x>0:\n",
    "    print(\"positivo\")\n",
    "elif x<0:\n",
    "    print(\"negativo\")\n",
    "else :\n",
    "    print(\"neutro\")\n",
    "# Ejemplo 2\n",
    "edad = 20\n",
    "salario = 3000\n",
    "\n",
    "if edad >= 18:\n",
    "    if salario >= 2500:\n",
    "        print(\"Puedes obtener el crédito.\")\n",
    "    else:\n",
    "        print(\"Tu salario es insuficiente para el crédito.\")\n",
    "else:\n",
    "    print(\"No puedes obtener el crédito por ser menor de edad.\")"
   ]
  },
  {
   "cell_type": "markdown",
   "id": "1e1798c6-0e87-419e-ba77-45063dc28122",
   "metadata": {},
   "source": [
    "Nos enseñaron sobre ciclos, los ciclos son código que nos permite hacer tareas muy repetitivas. "
   ]
  },
  {
   "cell_type": "code",
   "execution_count": null,
   "id": "bf9f0b3c-3fab-4d28-a36f-bc411d9694d5",
   "metadata": {},
   "outputs": [],
   "source": [
    "# For\n",
    "for i in range(20,0,-2):\n",
    "    print(i)\n",
    "\n",
    "num=1\n",
    "while num!=0:\n",
    "    num=int(input('ingrese numero'))\n",
    "\n",
    "def opuesto():\n",
    "    n=1\n",
    "    c=0\n",
    "    while n!=0:\n",
    "        n=int(input(\"ingrese numero\"))\n",
    "        print(n*-1)\n",
    "        c+=1 #c=c+1\n",
    "    return c-1 \n"
   ]
  },
  {
   "cell_type": "markdown",
   "id": "1ba0ed28-4a34-485b-ab1a-719b4fd5ef8e",
   "metadata": {},
   "source": [
    "Con una comprensión más avanzada de código, empezamos a entender las listas por comprensión, es una forma de crear listas, es como crear una nueva lista a raíz de parámetros: "
   ]
  },
  {
   "cell_type": "code",
   "execution_count": null,
   "id": "5911c0f8-bcea-4158-b6a7-b4633e1d4e91",
   "metadata": {},
   "outputs": [],
   "source": [
    "#lista=[10 for i in range(5)]\n",
    "import random\n",
    "lista=[i for i in range(5)]\n",
    "print(lista)\n",
    "lista=[i*i for i in range(1,6)]\n",
    "print(lista)\n",
    "#tam=random.randint(5,20)\n",
    "lista=[random.randint(0,100) for i in range(random.randint(5,10))]\n",
    "print(lista)\n",
    "\n",
    "lista2=[i*i for i in lista]\n",
    "print(f\"lista2={lista2}\")\n",
    "\n",
    "lista3=[0 if x%2==0 else x for x in lista]\n",
    "\n",
    "lista4=[1 if x<50 else 2 for x in lista]\n",
    "print(f\"lista4={lista4}\")\n",
    "\n",
    "lista5=[x*2 if x%2==0 else x/2 for x in lista]\n",
    "print(f\"lista5={lista5}\")"
   ]
  },
  {
   "cell_type": "markdown",
   "id": "9493f13c-ec5a-40fc-b4e9-e77df18fb87e",
   "metadata": {},
   "source": [
    "Profundizamos en el desarrollo de funciones que resolvieran problemas estadísticos como promedio, varianza, desviación estándar, rango y mediana. También creamos modulos a raíz de las funciones que creamos: "
   ]
  },
  {
   "cell_type": "code",
   "execution_count": null,
   "id": "4ea955de-8025-4732-8f86-98d1b70647e7",
   "metadata": {},
   "outputs": [],
   "source": [
    "# 1. Promedio (Media)\n",
    "def promedio(a, b):\n",
    "    return (a + b) / 2\n",
    "\n",
    "# 2. Varianza\n",
    "def varianza(a, b):\n",
    "    mu = promedio(a, b)  # media de los dos números\n",
    "    return ((a - mu) ** 2 + (b - mu) ** 2) / 2  # fórmula de varianza\n",
    "\n",
    "# 3. Desviación estándar\n",
    "def desviacion_estandar(a, b):\n",
    "    # Calculamos la raíz cuadrada de la varianza sin usar math.sqrt\n",
    "    var = varianza(a, b)\n",
    "    raiz = 0\n",
    "    # Estimación de la raíz cuadrada usando el método de aproximación\n",
    "    for i in range(1, int(var) + 1):\n",
    "        if i * i == var:\n",
    "            raiz = i\n",
    "            break\n",
    "        elif i * i > var:\n",
    "            raiz = i - 1\n",
    "            break\n",
    "    return raiz\n",
    "\n",
    "# 4. Rango\n",
    "def rango(a, b):\n",
    "    # Calculamos el rango sin usar abs\n",
    "    if a > b:\n",
    "        return a - b\n",
    "    else:\n",
    "        return b - a\n",
    "\n",
    "# 5. Mediana\n",
    "def mediana(a, b):\n",
    "    return promedio(a, b)  # para dos números, la mediana es el promedio"
   ]
  },
  {
   "cell_type": "markdown",
   "id": "a0618709-66c3-4e45-94c0-bae69f85a203",
   "metadata": {},
   "source": [
    "Los modulos tienen una estructura como esta: "
   ]
  },
  {
   "cell_type": "code",
   "execution_count": null,
   "id": "b617bf5a-ad6b-4fa4-892b-f8ab534a794d",
   "metadata": {},
   "outputs": [],
   "source": [
    "mi_proyecto/\n",
    "│\n",
    "├── main.py\n",
    "├── matematicas/\n",
    "│   ├── __init__.py\n",
    "│   ├── operaciones.py\n",
    "│   └── constantes.py\n",
    "└── utilidades/\n",
    "    ├── __init__.py\n",
    "    ├── archivos.py\n",
    "    └── validaciones.py"
   ]
  },
  {
   "cell_type": "markdown",
   "id": "13d92aa7-73a0-4522-add3-00790db8381e",
   "metadata": {},
   "source": [
    "Los diccionarios son una colección que usan clave-valor y tienen esta estructura: "
   ]
  },
  {
   "cell_type": "code",
   "execution_count": null,
   "id": "0e3cc32d-fb50-4091-8b99-3410f6e9421b",
   "metadata": {},
   "outputs": [],
   "source": [
    "diccionario = {clave1: valor1, clave2: valor2, clave3: valor3}"
   ]
  },
  {
   "cell_type": "markdown",
   "id": "4b6bb30b-73c1-47f0-bfdd-58a8f5fe69e4",
   "metadata": {},
   "source": [
    "También aprendimos a manipular los diccionarios: "
   ]
  },
  {
   "cell_type": "code",
   "execution_count": null,
   "id": "b8367221-bfa0-487f-a21b-0780612af899",
   "metadata": {},
   "outputs": [],
   "source": [
    "midiccionario={}\n",
    "print(type(midiccionario))\n",
    "datos={\n",
    "    \"gender\": \"female\",\n",
    "    #\"gender\":\"male\",\n",
    "    \"date_of_birth\": \"05.08.02\",\n",
    "    \"enrollment_semester\": \"Summer 2022\",\n",
    "    \"semester_number\": 6,\n",
    "    \"major\": \"Data Analytics\",\n",
    "    \"number\": 22100,\n",
    "    \"hobbies\":[\"paint\",\"music\",\"sports\"],\n",
    "    \"address\":{\"street\":14,\n",
    "               \"number\":\"11-11\",\n",
    "               \"county\":\"center\"\n",
    "        }\n",
    " }\n",
    "\n",
    "print(datos[\"gender\"])\n",
    "print(datos[\"address\"][\"street\"])\n",
    "print(datos[\"hobbies\"][0])\n",
    "\n",
    "datos[\"email\"]=\"mail@mail.com\"\n",
    "datos.update({\"email2\":\"mail2@mail2.com\"})\n",
    "print(datos.get(\"number\"))\n",
    "\n",
    "datos[\"semester_number\"]=datos[\"semester_number\"]/2\n",
    "#key, value, item\n",
    "for clave in datos.keys():\n",
    "    print(f\"clave={clave} y valor={datos[clave]}\")\n",
    "\n",
    "for valor in datos.values():\n",
    "    print(valor)\n",
    "    \n",
    "print(\"-\"*50)\n",
    "for item in datos.items():\n",
    "    print(type(item))"
   ]
  },
  {
   "cell_type": "markdown",
   "id": "d58e091b-c6ef-4dd9-b77f-26df66e79016",
   "metadata": {},
   "source": [
    "Los sets son una colección no ordenada con esta estructura: "
   ]
  },
  {
   "cell_type": "code",
   "execution_count": null,
   "id": "4fefddb0-4b6d-4e95-858e-8c58931b01fe",
   "metadata": {},
   "outputs": [],
   "source": [
    "conjunto = {elemento1, elemento2, elemento3}"
   ]
  },
  {
   "cell_type": "markdown",
   "id": "6c241e41-f8e5-4520-aeb1-e64fcc77a2bf",
   "metadata": {},
   "source": [
    "Profundizamos bastante en cómo usar los sets e integrar los conocimientos previamente adquiridos como random, nuevas funciones integradas de python:"
   ]
  },
  {
   "cell_type": "code",
   "execution_count": null,
   "id": "76ac1cad-5cb3-4d09-9159-c0ebbff2c8d0",
   "metadata": {},
   "outputs": [],
   "source": [
    "conjunto={1}\n",
    "#print(type(conjunto))\n",
    "conjunto2=set(['a',1,2,4])\n",
    "print(conjunto2.pop())\n",
    "print(conjunto2)\n",
    "print(conjunto2.remove(111))\n",
    "print(conjunto2.discard(111)\n",
    "\n",
    "lista=[random.randint(1,10) for i in range(20)]\n",
    "#lista=(random.randint(1,10) for i in range(15))\n",
    "print(lista)\n",
    "print(type(lista))\n",
    "conjunto3=set(lista)\n",
    "print(type(conjunto3))\n",
    "print(conjunto3)\n",
    "\n",
    "conjunto.update(lista)\n",
    "print(f\"conjunto despues de update\")\n",
    "print(f\"{conjunto}\")\n",
    "conjunto.add(100)\n",
    "print(f\"{conjunto}\")\n",
    "print(conjunto.pop())\n",
    "print(f\"{conjunto}\")"
   ]
  },
  {
   "cell_type": "markdown",
   "id": "42f934d4-88d7-4489-bdfd-222bfd69e095",
   "metadata": {},
   "source": [
    "Las tuplas son también colecciones pero no podemos modificar sus valores:"
   ]
  },
  {
   "cell_type": "code",
   "execution_count": null,
   "id": "d7aad9cb-dba7-46c7-94df-25576a548794",
   "metadata": {},
   "outputs": [],
   "source": [
    "tupla = (1, 2, 3, \"hola\", True)\n"
   ]
  },
  {
   "cell_type": "markdown",
   "id": "cf5ee227-44bf-4c28-8d3c-560530df3f1c",
   "metadata": {},
   "source": [
    "Aprendimos a usar las tuplas e integrar los conocimientos previos: "
   ]
  },
  {
   "cell_type": "code",
   "execution_count": null,
   "id": "e6bdda96-d7af-47e4-8f77-7a4ddadfb5be",
   "metadata": {},
   "outputs": [],
   "source": [
    "tupla=10,\n",
    "tupla=tupla+(20,)\n",
    "print(type(tupla))\n",
    "print(tupla[0])\n",
    "num=random.randint(1,100)\n",
    "tupla2=(num,)\n",
    "cantidad=random.randint(5,10)\n",
    "for i in range(cantidad):\n",
    "    num=random.randint(1,100)\n",
    "    tupla2+=(num,)\n",
    "print(tupla2)\n",
    "print(f\"count={tupla2.count(10)}\")"
   ]
  }
 ],
 "metadata": {
  "kernelspec": {
   "display_name": "Python 3 (ipykernel)",
   "language": "python",
   "name": "python3"
  },
  "language_info": {
   "codemirror_mode": {
    "name": "ipython",
    "version": 3
   },
   "file_extension": ".py",
   "mimetype": "text/x-python",
   "name": "python",
   "nbconvert_exporter": "python",
   "pygments_lexer": "ipython3",
   "version": "3.12.7"
  }
 },
 "nbformat": 4,
 "nbformat_minor": 5
}
